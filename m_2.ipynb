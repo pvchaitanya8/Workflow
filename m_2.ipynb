{
 "cells": [
  {
   "cell_type": "code",
   "execution_count": 1,
   "metadata": {},
   "outputs": [],
   "source": [
    "#Installations "
   ]
  },
  {
   "cell_type": "code",
   "execution_count": 2,
   "metadata": {},
   "outputs": [
    {
     "name": "stdout",
     "output_type": "stream",
     "text": [
      "Note: you may need to restart the kernel to use updated packages.\n"
     ]
    }
   ],
   "source": [
    "%pip -q install langchain openai"
   ]
  },
  {
   "cell_type": "code",
   "execution_count": 3,
   "metadata": {},
   "outputs": [
    {
     "name": "stdout",
     "output_type": "stream",
     "text": [
      "Requirement already satisfied: tabulate in c:\\users\\venka\\appdata\\local\\programs\\python\\python310\\lib\\site-packages (0.9.0)\n",
      "Note: you may need to restart the kernel to use updated packages.\n"
     ]
    }
   ],
   "source": [
    "%pip install tabulate"
   ]
  },
  {
   "cell_type": "code",
   "execution_count": 4,
   "metadata": {},
   "outputs": [
    {
     "name": "stdout",
     "output_type": "stream",
     "text": [
      "Name: langchain\n",
      "Version: 0.0.228\n",
      "Summary: Building applications with LLMs through composability\n",
      "Home-page: https://www.github.com/hwchase17/langchain\n",
      "Author: \n",
      "Author-email: \n",
      "License: MIT\n",
      "Location: c:\\users\\venka\\appdata\\local\\programs\\python\\python310\\lib\\site-packages\n",
      "Requires: aiohttp, async-timeout, dataclasses-json, langchainplus-sdk, numexpr, numpy, openapi-schema-pydantic, pydantic, PyYAML, requests, SQLAlchemy, tenacity\n",
      "Required-by: gpt-index, llama-index\n",
      "Note: you may need to restart the kernel to use updated packages.\n"
     ]
    }
   ],
   "source": [
    "%pip show langchain"
   ]
  },
  {
   "cell_type": "code",
   "execution_count": 5,
   "metadata": {},
   "outputs": [],
   "source": [
    "#Imports\n",
    "import os\n",
    "import sys\n",
    "import pandas as pd\n",
    "import sqlite3\n",
    "\n",
    "from langchain.agents import create_csv_agent\n",
    "from langchain.llms import OpenAI"
   ]
  },
  {
   "cell_type": "code",
   "execution_count": 6,
   "metadata": {},
   "outputs": [
    {
     "data": {
      "text/plain": [
       "1746661"
      ]
     },
     "execution_count": 6,
     "metadata": {},
     "output_type": "execute_result"
    }
   ],
   "source": [
    "# Set the OpenAI API key in the environment variable\n",
    "os.environ[\"OPENAI_API_KEY\"] = \"*********************************\"\n",
    "df = pd.read_csv('knowledge/data.csv')\n",
    "\n",
    "\n",
    "#Converting into CSV --> Database\n",
    "conn = sqlite3.connect('database.db')\n",
    "df.to_sql('table_name', conn, if_exists='replace')\n"
   ]
  },
  {
   "cell_type": "code",
   "execution_count": 7,
   "metadata": {},
   "outputs": [],
   "source": [
    "def answerMe(q):\n",
    "    # Set up the agent using the create_csv_agent function\n",
    "    agent = create_csv_agent(OpenAI(temperature=0), 'knowledge/data.csv', verbose=True)\n",
    "\n",
    "    #######\n",
    "    agent.agent.llm_chain.prompt.template\n",
    "\n",
    "    #Question\n",
    "    return(agent.run(q))"
   ]
  },
  {
   "cell_type": "code",
   "execution_count": 8,
   "metadata": {},
   "outputs": [],
   "source": [
    "def updateData():\n",
    "    # Replace 'your_table_name' with the name of the table containing the data you want to retrieve\n",
    "    # If you want to select specific columns, replace '*' with the column names separated by commas\n",
    "    query = \"SELECT * FROM table_name;\"\n",
    "    \n",
    "    # Use pandas to read the data into a DataFrame\n",
    "    df = pd.read_sql_query(query, conn)\n",
    "    # Specify the path where you want to save the .csv file\n",
    "    file_path = 'knowledge/data.csv'\n",
    "    \n",
    "    # Save the DataFrame to the .csv file\n",
    "    df.to_csv(file_path, index=True)  # Set index=False to avoid writing the index column to the file"
   ]
  },
  {
   "cell_type": "code",
   "execution_count": 9,
   "metadata": {},
   "outputs": [],
   "source": [
    "def sql_query(q):\n",
    "    cursor = conn.cursor()\n",
    "    cursor.execute(q)\n",
    "    conn.commit()\n",
    "\n",
    "    if q.strip().upper().startswith('SELECT'):\n",
    "        # For SELECT queries, return the results\n",
    "        results = cursor.fetchall()\n",
    "        # updateData()\n",
    "        return results\n",
    "    elif q.strip().upper().startswith('INSERT'):\n",
    "        # For INSERT queries, return a success message\n",
    "        updateData()\n",
    "        return \"Data inserted successfully!\"\n",
    "    else:\n",
    "        # For other queries (UPDATE, DELETE, etc.), return None\n",
    "        updateData()\n",
    "        return \"ELSE Block executed\"\n"
   ]
  },
  {
   "cell_type": "code",
   "execution_count": 10,
   "metadata": {},
   "outputs": [
    {
     "name": "stdout",
     "output_type": "stream",
     "text": [
      "\n",
      "            0 - STOP\n",
      "            1 - Normal Query\n",
      "            2 - SQL Query\n"
     ]
    }
   ],
   "source": [
    "##INPUT:\n",
    "i=1\n",
    "while(i):\n",
    "    print(\"\"\"\n",
    "            0 - STOP\n",
    "            1 - Normal Query\n",
    "            2 - SQL Query\"\"\")\n",
    "    i = int(input())\n",
    "    if(i==0):\n",
    "        break\n",
    "    elif(i==1):\n",
    "        tex = input(\"Enter the Question: \")\n",
    "        print(answerMe(tex))\n",
    "    elif(i==2):\n",
    "        tex = input(\"Enter the Question: \")\n",
    "        print(sql_query(tex))\n",
    "    else:\n",
    "        print(\"invalid input, TRY AGAIN!\")"
   ]
  },
  {
   "cell_type": "code",
   "execution_count": 25,
   "metadata": {},
   "outputs": [
    {
     "name": "stdout",
     "output_type": "stream",
     "text": [
      "\n",
      "\n",
      "\u001b[1m> Entering new  chain...\u001b[0m\n",
      "\u001b[32;1m\u001b[1;3mThought: I need to find the pollution data for Delhi\n",
      "Action: python_repl_ast\n",
      "Action Input: df[df['City'] == 'Delhi']\u001b[0m\n",
      "Observation: \u001b[36;1m\u001b[1;3mEmpty DataFrame\n",
      "Columns: [Unnamed: 0, State Code, County Code, Site Num, Address, State, County, City, Date Local, NO2 Units, NO2 Mean, NO2 1st Max Value, NO2 1st Max Hour, NO2 AQI, O3 Units, O3 Mean, O3 1st Max Value, O3 1st Max Hour, O3 AQI, SO2 Units, SO2 Mean, SO2 1st Max Value, SO2 1st Max Hour, SO2 AQI, CO Units, CO Mean, CO 1st Max Value, CO 1st Max Hour, CO AQI]\n",
      "Index: []\n",
      "\n",
      "[0 rows x 29 columns]\u001b[0m\n",
      "Thought:\u001b[32;1m\u001b[1;3m The dataframe is empty, so there is no pollution data for Delhi\n",
      "Final Answer: There is no pollution data for Delhi.\u001b[0m\n",
      "\n",
      "\u001b[1m> Finished chain.\u001b[0m\n"
     ]
    },
    {
     "data": {
      "text/plain": [
       "'There is no pollution data for Delhi.'"
      ]
     },
     "execution_count": 25,
     "metadata": {},
     "output_type": "execute_result"
    }
   ],
   "source": [
    "answerMe(\"what is the pollution in delhi?\")"
   ]
  },
  {
   "cell_type": "code",
   "execution_count": 12,
   "metadata": {},
   "outputs": [],
   "source": [
    "# print(sql_query('INSERT INTO table_name (\"Phone Name\", \"Rating ?/5\", \"Number of Ratings\", \"RAM\", \"ROM/Storage\", \"Back/Rare Camera\", \"Front Camera\", \"Battery\", \"Processor\", \"Price in INR\", \"Date of Scraping\") VALUES(\"Project ARA\", 4.9, 95,701, \"4 GB RAM\", \"64 GB ROM\", \"16MP + 5MP + 2MP + Low Light Sensor\", \"32MP Front Camera\", \"4000 mAh\", \"Helio P22 (MTK6762) Processor\", \"â‚¹10,999\", \"17-06-23\")'))\n",
    "# print(sql_query('INSERT INTO table_name (\"Phone Name\", \"Rating ?/5\") VALUES(\"Project ARA\", 4.9)'))\n"
   ]
  },
  {
   "cell_type": "code",
   "execution_count": null,
   "metadata": {},
   "outputs": [],
   "source": [
    "\n"
   ]
  },
  {
   "cell_type": "code",
   "execution_count": null,
   "metadata": {},
   "outputs": [],
   "source": [
    "\n"
   ]
  },
  {
   "cell_type": "code",
   "execution_count": null,
   "metadata": {},
   "outputs": [],
   "source": []
  }
 ],
 "metadata": {
  "kernelspec": {
   "display_name": "Python 3",
   "language": "python",
   "name": "python3"
  },
  "language_info": {
   "codemirror_mode": {
    "name": "ipython",
    "version": 3
   },
   "file_extension": ".py",
   "mimetype": "text/x-python",
   "name": "python",
   "nbconvert_exporter": "python",
   "pygments_lexer": "ipython3",
   "version": "3.10.0"
  },
  "orig_nbformat": 4
 },
 "nbformat": 4,
 "nbformat_minor": 2
}
